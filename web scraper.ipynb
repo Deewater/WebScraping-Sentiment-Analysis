{
 "cells": [
  {
   "cell_type": "code",
   "execution_count": 1,
   "id": "d31b9bc6",
   "metadata": {},
   "outputs": [],
   "source": [
    "import pandas as pd\n",
    "import requests\n",
    "from bs4 import BeautifulSoup\n",
    "df=pd.read_excel(r\"C:\\Users\\Lenovo\\Desktop\\Input.xlsx\")"
   ]
  },
  {
   "cell_type": "code",
   "execution_count": 6,
   "id": "90d1d558",
   "metadata": {},
   "outputs": [
    {
     "data": {
      "text/plain": [
       "URL_ID                                                144.0\n",
       "URL       https://insights.blackcoffer.com/ensuring-grow...\n",
       "Name: 107, dtype: object"
      ]
     },
     "execution_count": 6,
     "metadata": {},
     "output_type": "execute_result"
    }
   ],
   "source": [
    "df.iloc[107]"
   ]
  },
  {
   "cell_type": "code",
   "execution_count": 256,
   "id": "12764423",
   "metadata": {},
   "outputs": [],
   "source": [
    "# Links of these pages not responding url id 44, 57, 144\n",
    "df=df.drop([7,20,107])"
   ]
  },
  {
   "cell_type": "code",
   "execution_count": 257,
   "id": "c5ec4d0f",
   "metadata": {},
   "outputs": [],
   "source": [
    "df=df.reset_index()"
   ]
  },
  {
   "cell_type": "code",
   "execution_count": 258,
   "id": "37e835c0",
   "metadata": {},
   "outputs": [
    {
     "name": "stdout",
     "output_type": "stream",
     "text": [
      "AI in healthcare to Improve Patient Outcomes - Blackcoffer Insights\n",
      "What if the Creation is Taking Over the Creator? - Blackcoffer Insights\n",
      "What Jobs Will Robots Take From Humans in The Future? - Blackcoffer Insights\n",
      "Will Machine Replace The Human in the Future of Work? - Blackcoffer Insights\n",
      "Will AI Replace Us or Work With Us? - Blackcoffer Insights\n",
      "Will machine replace the human in the future of work? - Blackcoffer Insights\n",
      "How humans and machines are evolving to work together? - Blackcoffer Insights\n",
      "How machine learning will affect your business? - Blackcoffer Insights\n",
      "Deep learning impact on areas of e-learning? - Blackcoffer Insights\n",
      "How to protect future data and its privacy? - Blackcoffer Insights\n",
      "How Machines, AI, Automations, and Robo-human are Effective in Finance and Banking? - Blackcoffer Insights\n",
      "How Robo Human will Impact the Future? - Blackcoffer Insights\n",
      "How AI will change the World? - Blackcoffer Insights\n",
      "Future of Work: How AI Has Entered the Workplace - Blackcoffer Insights\n",
      "How machine learning used in finance and banking? - Blackcoffer Insights\n",
      "How AI will impact the future of work? - Blackcoffer Insights\n",
      "All you need to know about online marketing - Blackcoffer Insights\n",
      "Evolution of Advertising Industry - Blackcoffer Insights\n",
      "How Data Analytics can help your business respond to the impact of COVID-19? - Blackcoffer Insights\n",
      "Environmental impact of the COVID-19 pandemic – Lesson for the Future - Blackcoffer Insights\n",
      "How Data Analytics and AI are used to halt the COVID-19 Pandemic? - Blackcoffer Insights\n",
      "AI Machine Learning Statistics and Data Mining - what is the difference\n",
      "Python became the choice for Data Science - how | let's know\n",
      "Google fit measure heart and respiratory rates using phone -how\n",
      "mobile apps - Future | blackcoffer insights | know more about unknow facts\n",
      "AI in health and medicine | impact of AI | blackcoffer insights\n",
      "telemedicine - What patients like and dislike about it | blackcoffer insights\n",
      "forecast future technologies- how to | blackcoffer insights\n",
      "Can robots tackle life loneliness | blackcoffer insights\n",
      "Socio-technical considerations - Embedding care robots into society\n",
      "future digitalization of healthcare services | management challenges\n",
      "Are we any closer to preventing a nuclear holocaust? - Blackcoffer Insights\n",
      "Will technology eliminate the need for animal testing in drug development? - Blackcoffer Insights\n",
      "Will we ever understand the nature of consciousness? - Blackcoffer Insights\n",
      "Will we ever colonize outer space? - Blackcoffer Insights\n",
      "What is the chance Homo sapiens will survive for the next 500 years? - Blackcoffer Insights\n",
      "Why does your business need a chatbot? - Blackcoffer Insights\n",
      "How you lead a project or a team without any technical expertise? - Blackcoffer Insights\n",
      "Can You Be Great Leader Without Technical Expertise - Blackcoffer Insights\n",
      "How does artificial intelligence affect the environment - Blackcoffer Insights\n",
      "How to Overcome Your Fear of Making Mistakes - Blackcoffer Insights\n",
      "Is Perfection the Greatest enemy of Productivity? - Blackcoffer Insights\n",
      "Global financial crisis 2008 causes/effects and its solution - Blackcoffer Insights\n",
      "Gender diversity and Equality in the tech industry - Blackcoffer Insights\n",
      "How to overcome your fear of making mistakes? - Blackcoffer Insights\n",
      "How Small Business can survive the Coronavirus Crisis - Blackcoffer Insights\n",
      "Impacts of COVID 19 on Food products - Blackcoffer Insights\n",
      "Impacts of COVID 19 on Vegetable Vendors - Blackcoffer Insights\n",
      "Impact of COVID-19 pandemic on Tourism & Aviation industries - Blackcoffer Insights\n",
      "Impact of COVID-19 pandemic on sports events around the world. - Blackcoffer Insights\n",
      "Changing landscape and emerging trends in the Indian IT/ITeS Industry. - Blackcoffer Insights\n",
      "Online gaming: Adolescent online gaming effects us | how\n",
      "Human Rights Outlook - Blackcoffer Insights\n",
      "How Voice search makes your business a successful business. - Blackcoffer Insights\n",
      "How the COVID-19 crisis is redefining jobs and services? - Blackcoffer Insights\n",
      "How to increase social media engagement for marketers? - Blackcoffer Insights\n",
      "Impacts of COVID 19 on Streets Sides Food Stalls - Blackcoffer Insights\n",
      "Coronavirus impact on energy markets - Blackcoffer Insights\n",
      "COVID-19 Impact on Hospitality Industrty | blackcoffer insights\n",
      "key learnings relevant to the coronavirus crisis | Lessons from the past\n",
      "Estimating the impact of COVID-19 on the world of work - Blackcoffer Insights\n",
      "Estimating the impact of COVID-19 on the world of work - Blackcoffer Insights\n",
      "Travel and Tourism Outlook - Blackcoffer Insights\n",
      "Gaming Disorder and Effects of Gaming on Health. - Blackcoffer Insights\n",
      "What is the repercussion of the environment due to the COVID-19 pandemic situation? - Blackcoffer Insights\n",
      "Due to the COVID-19 the repercussion of the environment - Blackcoffer Insights\n",
      "Impact of COVID-19 pandemic on office space and co-working industries. - Blackcoffer Insights\n",
      "Contribution of handicrafts (Visual Arts & Literature) in the Indian economy - Blackcoffer Insights\n",
      "How COVID-19 is impacting payment preferences? - Blackcoffer Insights\n",
      "How will COVID-19 affect the world of work? - Blackcoffer Insights\n",
      "Lessons from the past: Some key learnings relevant to the coronavirus crisis - Blackcoffer Insights\n",
      "COVID-19: How have countries been responding? - Blackcoffer Insights\n",
      "How Coronavirus Impact on the Hospitality Industry - Blackcoffer Insights\n",
      "How will COVID-19 affect the world of work? - Blackcoffer Insights\n",
      "Coronavirus Effect on the Hospitality Industry | blackcoffer insights\n",
      "Estimating the impact of COVID-19 on the world of work - Blackcoffer Insights\n",
      "COVID-19: How have countries been responding? - Blackcoffer Insights\n",
      "How will COVID-19 affect the world of work? - Blackcoffer Insights\n",
      "Lessons from the past: Some key learnings relevant to the coronavirus crisis - Blackcoffer Insights\n",
      "Lessons from the past: Some key learnings relevant to the coronavirus crisis - Blackcoffer Insights\n",
      "Coronavirus Impact on the Hospitality Industry | blackcoffer insights\n",
      "Why scams like Nirav Modi Happen with Indian banks?\n",
      "IMPACT OF COVID-19 ON THE GLOBAL ECONOMY - Blackcoffer Insights\n",
      "Impact of coronavirus on the Indian economy - Blackcoffer Insights\n",
      "Global Economy effected by Coronavirus - Blackcoffer Insights\n",
      "Impact of COVID-19 (Coronavirus) on the Indian Economy - Blackcoffer Insights\n",
      "Should celebrities be allowed to join politics | blackcoffer insights\n",
      "How prepared is India to tackle a possible COVID-19 outbreak? - Blackcoffer Insights\n",
      "How will COVID-19 affect the world of work? - Blackcoffer Insights\n",
      "Controversy as a Marketing Strategy - Blackcoffer Insights\n",
      "Coronavirus: Impact on the Hospitality Industry | blackcoffer insights\n",
      "Coronavirus impact on energy markets - Blackcoffer Insights\n",
      "impacts of COVID-19 on the world of work - What are the key policies\n",
      "Marketing Drives Results With A Focus On Problems - Blackcoffer Insights\n",
      "Continued Demand for Sustainability - Blackcoffer Insights\n",
      "Coronavirus Disease (COVID-19) Effect: The Impact and Role of Mass Media During the Pandemic - Blackcoffer Insights\n",
      "Should people wear fabric gloves? Seeking evidence regarding the differential transfer of COVID-19 (or coronaviruses generally) between surfaces? - Blackcoffer Insights\n",
      "Why is there a severe immunological and inflammatory explosion in those affected by sarms covid-19? - Blackcoffer Insights\n",
      "What do you think is the lesson (or lessons) to be learned with Covid 19? - Blackcoffer Insights\n",
      "Coronavirus, the unexpected challenge for the European union - Blackcoffer Insights\n",
      "INDUSTRIAL REVOLUTION 4.0 – PROS AND CONS | Blackcoffer insights\n",
      "COVID-19 Vs Indian Economy - Blackcoffer Insights\n",
      "Impact of COVID-19 (Coronavirus) on the Indian Economy - Blackcoffer Insights\n",
      "Impact of Indian Economy due to COVID-19 - Blackcoffer Insights\n",
      "Impact of newly discovered coronavirus on the Global Economy - Blackcoffer Insights\n",
      "Blockchain in Fintech - Blackcoffer Insights\n",
      "Blockchain for Payments - Blackcoffer Insights\n",
      "The future of Investing - Blackcoffer Insights\n",
      "Big Data Analytics in Healthcare - Blackcoffer Insights\n",
      "Business Analytics In The Healthcare Industry - Blackcoffer Insights\n",
      "Challenges and Opportunities of Big Data in Healthcare - Blackcoffer Insights\n"
     ]
    }
   ],
   "source": [
    "#Scraping links for Title and adding it to a column in dataframe\n",
    "y=0\n",
    "for x in df[\"URL\"]:\n",
    "    r = requests.get(x, headers={\"User-Agent\": \"XY\"})\n",
    "    soup = BeautifulSoup(r.content, 'html.parser')\n",
    "    htmlTitle=soup.title.text\n",
    "    print(htmlTitle)\n",
    "    \n",
    "    df.at[y,\"Title\"]=htmlTitle\n",
    "    y=y+1\n",
    "    \n",
    "    \n",
    "    "
   ]
  },
  {
   "cell_type": "code",
   "execution_count": 191,
   "id": "9b0ff531",
   "metadata": {},
   "outputs": [],
   "source": [
    "df.drop_duplicates(inplace=True)"
   ]
  },
  {
   "cell_type": "code",
   "execution_count": 259,
   "id": "de48c82f",
   "metadata": {},
   "outputs": [
    {
     "data": {
      "text/html": [
       "<div>\n",
       "<style scoped>\n",
       "    .dataframe tbody tr th:only-of-type {\n",
       "        vertical-align: middle;\n",
       "    }\n",
       "\n",
       "    .dataframe tbody tr th {\n",
       "        vertical-align: top;\n",
       "    }\n",
       "\n",
       "    .dataframe thead th {\n",
       "        text-align: right;\n",
       "    }\n",
       "</style>\n",
       "<table border=\"1\" class=\"dataframe\">\n",
       "  <thead>\n",
       "    <tr style=\"text-align: right;\">\n",
       "      <th></th>\n",
       "      <th>index</th>\n",
       "      <th>URL_ID</th>\n",
       "      <th>URL</th>\n",
       "      <th>Title</th>\n",
       "    </tr>\n",
       "  </thead>\n",
       "  <tbody>\n",
       "    <tr>\n",
       "      <th>0</th>\n",
       "      <td>0</td>\n",
       "      <td>37.0</td>\n",
       "      <td>https://insights.blackcoffer.com/ai-in-healthc...</td>\n",
       "      <td>AI in healthcare to Improve Patient Outcomes -...</td>\n",
       "    </tr>\n",
       "    <tr>\n",
       "      <th>1</th>\n",
       "      <td>1</td>\n",
       "      <td>38.0</td>\n",
       "      <td>https://insights.blackcoffer.com/what-if-the-c...</td>\n",
       "      <td>What if the Creation is Taking Over the Creato...</td>\n",
       "    </tr>\n",
       "    <tr>\n",
       "      <th>2</th>\n",
       "      <td>2</td>\n",
       "      <td>39.0</td>\n",
       "      <td>https://insights.blackcoffer.com/what-jobs-wil...</td>\n",
       "      <td>What Jobs Will Robots Take From Humans in The ...</td>\n",
       "    </tr>\n",
       "    <tr>\n",
       "      <th>3</th>\n",
       "      <td>3</td>\n",
       "      <td>40.0</td>\n",
       "      <td>https://insights.blackcoffer.com/will-machine-...</td>\n",
       "      <td>Will Machine Replace The Human in the Future o...</td>\n",
       "    </tr>\n",
       "    <tr>\n",
       "      <th>4</th>\n",
       "      <td>4</td>\n",
       "      <td>41.0</td>\n",
       "      <td>https://insights.blackcoffer.com/will-ai-repla...</td>\n",
       "      <td>Will AI Replace Us or Work With Us? - Blackcof...</td>\n",
       "    </tr>\n",
       "    <tr>\n",
       "      <th>...</th>\n",
       "      <td>...</td>\n",
       "      <td>...</td>\n",
       "      <td>...</td>\n",
       "      <td>...</td>\n",
       "    </tr>\n",
       "    <tr>\n",
       "      <th>106</th>\n",
       "      <td>109</td>\n",
       "      <td>146.0</td>\n",
       "      <td>https://insights.blackcoffer.com/blockchain-fo...</td>\n",
       "      <td>Blockchain for Payments - Blackcoffer Insights</td>\n",
       "    </tr>\n",
       "    <tr>\n",
       "      <th>107</th>\n",
       "      <td>110</td>\n",
       "      <td>147.0</td>\n",
       "      <td>https://insights.blackcoffer.com/the-future-of...</td>\n",
       "      <td>The future of Investing - Blackcoffer Insights</td>\n",
       "    </tr>\n",
       "    <tr>\n",
       "      <th>108</th>\n",
       "      <td>111</td>\n",
       "      <td>148.0</td>\n",
       "      <td>https://insights.blackcoffer.com/big-data-anal...</td>\n",
       "      <td>Big Data Analytics in Healthcare - Blackcoffer...</td>\n",
       "    </tr>\n",
       "    <tr>\n",
       "      <th>109</th>\n",
       "      <td>112</td>\n",
       "      <td>149.0</td>\n",
       "      <td>https://insights.blackcoffer.com/business-anal...</td>\n",
       "      <td>Business Analytics In The Healthcare Industry ...</td>\n",
       "    </tr>\n",
       "    <tr>\n",
       "      <th>110</th>\n",
       "      <td>113</td>\n",
       "      <td>150.0</td>\n",
       "      <td>https://insights.blackcoffer.com/challenges-an...</td>\n",
       "      <td>Challenges and Opportunities of Big Data in He...</td>\n",
       "    </tr>\n",
       "  </tbody>\n",
       "</table>\n",
       "<p>111 rows × 4 columns</p>\n",
       "</div>"
      ],
      "text/plain": [
       "     index  URL_ID                                                URL  \\\n",
       "0        0    37.0  https://insights.blackcoffer.com/ai-in-healthc...   \n",
       "1        1    38.0  https://insights.blackcoffer.com/what-if-the-c...   \n",
       "2        2    39.0  https://insights.blackcoffer.com/what-jobs-wil...   \n",
       "3        3    40.0  https://insights.blackcoffer.com/will-machine-...   \n",
       "4        4    41.0  https://insights.blackcoffer.com/will-ai-repla...   \n",
       "..     ...     ...                                                ...   \n",
       "106    109   146.0  https://insights.blackcoffer.com/blockchain-fo...   \n",
       "107    110   147.0  https://insights.blackcoffer.com/the-future-of...   \n",
       "108    111   148.0  https://insights.blackcoffer.com/big-data-anal...   \n",
       "109    112   149.0  https://insights.blackcoffer.com/business-anal...   \n",
       "110    113   150.0  https://insights.blackcoffer.com/challenges-an...   \n",
       "\n",
       "                                                 Title  \n",
       "0    AI in healthcare to Improve Patient Outcomes -...  \n",
       "1    What if the Creation is Taking Over the Creato...  \n",
       "2    What Jobs Will Robots Take From Humans in The ...  \n",
       "3    Will Machine Replace The Human in the Future o...  \n",
       "4    Will AI Replace Us or Work With Us? - Blackcof...  \n",
       "..                                                 ...  \n",
       "106     Blockchain for Payments - Blackcoffer Insights  \n",
       "107     The future of Investing - Blackcoffer Insights  \n",
       "108  Big Data Analytics in Healthcare - Blackcoffer...  \n",
       "109  Business Analytics In The Healthcare Industry ...  \n",
       "110  Challenges and Opportunities of Big Data in He...  \n",
       "\n",
       "[111 rows x 4 columns]"
      ]
     },
     "execution_count": 259,
     "metadata": {},
     "output_type": "execute_result"
    }
   ],
   "source": [
    "df"
   ]
  },
  {
   "cell_type": "code",
   "execution_count": 260,
   "id": "2414a716",
   "metadata": {},
   "outputs": [],
   "source": [
    "#Scraping for Articles in the links\n",
    "mylist2=[]\n",
    "y=0\n",
    "for x in df[\"URL\"]:\n",
    "    r = requests.get(x, headers={\"User-Agent\": \"XY\"})\n",
    "\n",
    "    # Parsing the HTML\n",
    "    soup = BeautifulSoup(r.content, 'html.parser')\n",
    "\n",
    "    s = soup.find('div', class_='td-post-content')\n",
    "    content = s.find_all('p')\n",
    "    mylist=[]\n",
    "    \n",
    "    for p in content:\n",
    "        \n",
    "        # print statement if you want to see the output\n",
    "        para=p.text\n",
    "        mylist.append(para)\n",
    "        \n",
    "    mylist2.append(mylist)\n",
    "    y=y+1\n",
    "    "
   ]
  },
  {
   "cell_type": "code",
   "execution_count": 265,
   "id": "c1236ff9",
   "metadata": {},
   "outputs": [],
   "source": [
    "df[\"Article\"]=mylist2"
   ]
  },
  {
   "cell_type": "code",
   "execution_count": 268,
   "id": "da619679",
   "metadata": {},
   "outputs": [
    {
     "data": {
      "text/plain": [
       "index                                                      1\n",
       "URL_ID                                                  38.0\n",
       "URL        https://insights.blackcoffer.com/what-if-the-c...\n",
       "Title      What if the Creation is Taking Over the Creato...\n",
       "Article    Human minds, a fascination in itself carrying ...\n",
       "Name: 1, dtype: object"
      ]
     },
     "execution_count": 268,
     "metadata": {},
     "output_type": "execute_result"
    }
   ],
   "source": [
    "df.iloc[1]"
   ]
  },
  {
   "cell_type": "code",
   "execution_count": 269,
   "id": "ff11a915",
   "metadata": {},
   "outputs": [],
   "source": [
    "df.to_excel(r'C:\\Users\\Lenovo\\Desktop\\Article.xlsx', index=False)"
   ]
  },
  {
   "cell_type": "code",
   "execution_count": 261,
   "id": "f7d31008",
   "metadata": {},
   "outputs": [],
   "source": []
  },
  {
   "cell_type": "code",
   "execution_count": 252,
   "id": "9f2d3c7d",
   "metadata": {},
   "outputs": [
    {
     "data": {
      "text/plain": [
       "'n'"
      ]
     },
     "execution_count": 252,
     "metadata": {},
     "output_type": "execute_result"
    }
   ],
   "source": []
  },
  {
   "cell_type": "code",
   "execution_count": 264,
   "id": "8fff3c4c",
   "metadata": {},
   "outputs": [
    {
     "data": {
      "text/plain": [
       "'u'"
      ]
     },
     "execution_count": 264,
     "metadata": {},
     "output_type": "execute_result"
    }
   ],
   "source": []
  },
  {
   "cell_type": "code",
   "execution_count": null,
   "id": "3ca4ddbf",
   "metadata": {},
   "outputs": [],
   "source": []
  }
 ],
 "metadata": {
  "kernelspec": {
   "display_name": "Python 3 (ipykernel)",
   "language": "python",
   "name": "python3"
  },
  "language_info": {
   "codemirror_mode": {
    "name": "ipython",
    "version": 3
   },
   "file_extension": ".py",
   "mimetype": "text/x-python",
   "name": "python",
   "nbconvert_exporter": "python",
   "pygments_lexer": "ipython3",
   "version": "3.9.2"
  }
 },
 "nbformat": 4,
 "nbformat_minor": 5
}
